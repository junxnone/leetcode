{
  "nbformat": 4,
  "nbformat_minor": 0,
  "metadata": {
    "colab": {
      "name": "twoSum.ipynb",
      "provenance": [],
      "collapsed_sections": [],
      "include_colab_link": true
    },
    "kernelspec": {
      "name": "python3",
      "display_name": "Python 3"
    }
  },
  "cells": [
    {
      "cell_type": "markdown",
      "metadata": {
        "id": "view-in-github",
        "colab_type": "text"
      },
      "source": [
        "<a href=\"https://colab.research.google.com/github/junxnone/leetcode/blob/master/python/twoSum.ipynb\" target=\"_parent\"><img src=\"https://colab.research.google.com/assets/colab-badge.svg\" alt=\"Open In Colab\"/></a>"
      ]
    },
    {
      "cell_type": "code",
      "metadata": {
        "id": "Nf6FKCvNmcxu",
        "colab_type": "code",
        "colab": {}
      },
      "source": [
        "from typing import List"
      ],
      "execution_count": 0,
      "outputs": []
    },
    {
      "cell_type": "code",
      "metadata": {
        "id": "qo_iu8lLmi_3",
        "colab_type": "code",
        "colab": {}
      },
      "source": [
        "nums = [1,2,4,5,6,7,8,9]\n",
        "target = 17"
      ],
      "execution_count": 0,
      "outputs": []
    },
    {
      "cell_type": "markdown",
      "metadata": {
        "id": "QJJZNZd7p6K3",
        "colab_type": "text"
      },
      "source": [
        "# 1 暴力搜索\n"
      ]
    },
    {
      "cell_type": "code",
      "metadata": {
        "id": "dYAmQPFCmgB8",
        "colab_type": "code",
        "colab": {
          "base_uri": "https://localhost:8080/",
          "height": 51
        },
        "outputId": "2cf0607d-625e-4e77-f2a7-b63454604079"
      },
      "source": [
        "class Solution1:\n",
        "  def twoSum(self, nums: List[int], target: int) -> List[int]:\n",
        "    \"\"\"\n",
        "    :type nums: List[int]\n",
        "    :type target: int\n",
        "    :rtype: List[int]\n",
        "    \"\"\"\n",
        "    if len(nums) == 0:\n",
        "      return []\n",
        "    for index, item in enumerate(nums):\n",
        "      for count in range(index+1, len(nums)):\n",
        "        if item + nums[count] == target:\n",
        "          return [index, count]\n",
        "\n",
        "sol = Solution1()\n",
        "%timeit result = sol.twoSum(nums,target) \n",
        "result = sol.twoSum(nums,target) \n",
        "print(\"Sum {} index is {}\".format(target,result))"
      ],
      "execution_count": 3,
      "outputs": [
        {
          "output_type": "stream",
          "text": [
            "100000 loops, best of 3: 4.06 µs per loop\n",
            "Sum 17 index is [6, 7]\n"
          ],
          "name": "stdout"
        }
      ]
    },
    {
      "cell_type": "markdown",
      "metadata": {
        "id": "FdrO1YxGp02a",
        "colab_type": "text"
      },
      "source": [
        "# 使用字典存储历史计算值\n",
        "> 使得历史计算有了意义\n",
        "\n",
        "\n",
        "- 值作为 key\n",
        "- index 为 value\n",
        "\n",
        "> uncomment the `print...` to see what happened\n"
      ]
    },
    {
      "cell_type": "code",
      "metadata": {
        "id": "LPr8pHKym_bR",
        "colab_type": "code",
        "colab": {
          "base_uri": "https://localhost:8080/",
          "height": 68
        },
        "outputId": "d6b723d7-27d7-4508-861a-b8ea3b4344e4"
      },
      "source": [
        "class Solution2:\n",
        "  def twoSum(self, nums: List[int], target: int) -> List[int]:\n",
        "        \"\"\"\n",
        "        :type nums: List[int]\n",
        "        :type target: int\n",
        "        :rtype: List[int]\n",
        "        \"\"\"\n",
        "        hashmap = {}\n",
        "        for index, item in enumerate(nums):\n",
        "            # print(index,item)\n",
        "            if (target - item) in hashmap:\n",
        "                return hashmap[target-item],index\n",
        "            hashmap[item] = index\n",
        "            # print(hashmap)\n",
        "sol = Solution2()\n",
        "%timeit result = sol.twoSum(nums,target)\n",
        "result = sol.twoSum(nums,target)\n",
        "print(\"Sum {} index is {}\".format(target,result))"
      ],
      "execution_count": 4,
      "outputs": [
        {
          "output_type": "stream",
          "text": [
            "The slowest run took 6.65 times longer than the fastest. This could mean that an intermediate result is being cached.\n",
            "1000000 loops, best of 3: 1.17 µs per loop\n",
            "Sum 17 index is (6, 7)\n"
          ],
          "name": "stdout"
        }
      ]
    },
    {
      "cell_type": "code",
      "metadata": {
        "id": "Ats1xOnprJ2L",
        "colab_type": "code",
        "colab": {
          "base_uri": "https://localhost:8080/",
          "height": 34
        },
        "outputId": "1a7a9c81-d8a0-4458-a8a4-17e87b1b35cc"
      },
      "source": [
        "!lscpu |grep name"
      ],
      "execution_count": 5,
      "outputs": [
        {
          "output_type": "stream",
          "text": [
            "Model name:          Intel(R) Xeon(R) CPU @ 2.20GHz\n"
          ],
          "name": "stdout"
        }
      ]
    }
  ]
}